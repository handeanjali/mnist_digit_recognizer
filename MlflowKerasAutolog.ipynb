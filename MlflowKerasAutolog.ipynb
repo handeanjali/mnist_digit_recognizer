{
 "cells": [
  {
   "cell_type": "code",
   "execution_count": null,
   "metadata": {},
   "outputs": [],
   "source": [
    "import os\n",
    "# You can use 'tensorflow', 'torch' or 'jax' as backend. Make sure to set the environment variable before importing.\n",
    "os.environ[\"KERAS_BACKEND\"] = \"tensorflow\"\n",
    "#TensorFlow is using oneDNN library for performance enhancements.(This worning will not pop up if you are using GPU)\n",
    "#Need to put the below code on top of your code before \"import keras\" code line to suppress these warning messages.\n",
    "os.environ[\"TF_CPP_MIN_LOG_LEVEL\"] = \"2\""
   ]
  },
  {
   "cell_type": "code",
   "execution_count": 1,
   "metadata": {
    "colab": {
     "base_uri": "https://localhost:8080/"
    },
    "id": "c1t1FIYdY9Hh",
    "outputId": "5085a832-c810-47ef-b343-184d8bd880a0"
   },
   "outputs": [],
   "source": [
    "%matplotlib inline\n",
    "import warnings\n",
    "warnings.filterwarnings(\"ignore\")"
   ]
  },
  {
   "cell_type": "code",
   "execution_count": 2,
   "metadata": {
    "id": "aIzCaPPCZHWP"
   },
   "outputs": [],
   "source": [
    "import numpy as np                   # advanced math library\n",
    "import matplotlib.pyplot as plt      # MATLAB like plotting routines\n",
    "\n",
    "import keras\n",
    "import mlflow\n",
    "import mlflow.keras"
   ]
  },
  {
   "cell_type": "code",
   "execution_count": 3,
   "metadata": {
    "colab": {
     "base_uri": "https://localhost:8080/"
    },
    "id": "-4Q-tDLZZHdW",
    "outputId": "d1ffff73-d732-47d3-a269-ad70d20166c4"
   },
   "outputs": [],
   "source": [
    "(x_train, y_train), (x_test, y_test) = keras.datasets.mnist.load_data()"
   ]
  },
  {
   "cell_type": "code",
   "execution_count": 4,
   "metadata": {
    "colab": {
     "base_uri": "https://localhost:8080/",
     "height": 447
    },
    "id": "UWK640psZp7v",
    "outputId": "ea50c249-38c0-4135-b625-5a059e14f7c8"
   },
   "outputs": [
    {
     "data": {
      "text/plain": [
       "<matplotlib.image.AxesImage at 0x1ec20c0c8d0>"
      ]
     },
     "execution_count": 4,
     "metadata": {},
     "output_type": "execute_result"
    },
    {
     "data": {
      "image/png": "[encoded data removed]",
      "text/plain": [
       "<Figure size 640x480 with 1 Axes>"
      ]
     },
     "metadata": {},
     "output_type": "display_data"
    }
   ],
   "source": [
    "plt.imshow(x_train[2], cmap='gray')"
   ]
  },
  {
   "cell_type": "code",
   "execution_count": 5,
   "metadata": {
    "colab": {
     "base_uri": "https://localhost:8080/"
    },
    "id": "b1KsS3ZJZyGQ",
    "outputId": "1d7b2d58-3bbd-49ff-fa36-858bccfb4cd1"
   },
   "outputs": [
    {
     "data": {
      "text/plain": [
       "4"
      ]
     },
     "execution_count": 5,
     "metadata": {},
     "output_type": "execute_result"
    }
   ],
   "source": [
    "y_train[2]"
   ]
  },
  {
   "cell_type": "code",
   "execution_count": 6,
   "metadata": {
    "colab": {
     "base_uri": "https://localhost:8080/"
    },
    "id": "-MVOdrBCZHgn",
    "outputId": "5c19be54-9bc8-4b77-e19c-c834f8e57c7a"
   },
   "outputs": [
    {
     "name": "stdout",
     "output_type": "stream",
     "text": [
      "Training matrix shape (60000, 28, 28, 1)\n",
      "Testing matrix shape (10000, 28, 28, 1)\n",
      "60000 train samples\n",
      "10000 test samples\n"
     ]
    }
   ],
   "source": [
    "# Again, do some formatting\n",
    "# we do not flatten each image into a 784-length vector because we want to perform convolutions first\n",
    "\n",
    "# Model / data parameters\n",
    "num_classes = 10\n",
    "input_shape = (28, 28, 1)\n",
    "\n",
    "# Make sure images have shape (28, 28, 1)\n",
    "x_train = np.expand_dims(x_train, axis=3)\n",
    "x_test = np.expand_dims(x_test, axis=3)\n",
    "\n",
    "# change integers to 32-bit floating point numbers\n",
    "x_train = x_train.astype('float32')         \n",
    "x_test = x_test.astype('float32')\n",
    "\n",
    "# normalize each value for each pixel for the entire vector for each input\n",
    "x_train /= 255                              \n",
    "x_test /= 255\n",
    "\n",
    "print(\"Training matrix shape\", x_train.shape)\n",
    "print(\"Testing matrix shape\", x_test.shape)\n",
    "\n",
    "print(x_train.shape[0], \"train samples\")\n",
    "print(x_test.shape[0], \"test samples\")\n",
    "\n",
    "# convert class vectors to binary class matrices\n",
    "#y_train = keras.utils.to_categorical(y_train, num_classes)\n",
    "#y_test = keras.utils.to_categorical(y_test, num_classes)"
   ]
  },
  {
   "cell_type": "code",
   "execution_count": 7,
   "metadata": {
    "id": "1-TpdR4OZHm-"
   },
   "outputs": [
    {
     "data": {
      "text/html": [
       "<pre style=\"white-space:pre;overflow-x:auto;line-height:normal;font-family:Menlo,'DejaVu Sans Mono',consolas,'Courier New',monospace\"><span style=\"font-weight: bold\">Model: \"sequential\"</span>\n",
       "</pre>\n"
      ],
      "text/plain": [
       "\u001b[1mModel: \"sequential\"\u001b[0m\n"
      ]
     },
     "metadata": {},
     "output_type": "display_data"
    },
    {
     "data": {
      "text/html": [
       "<pre style=\"white-space:pre;overflow-x:auto;line-height:normal;font-family:Menlo,'DejaVu Sans Mono',consolas,'Courier New',monospace\">┏━━━━━━━━━━━━━┳━━━━━━━━━━━┳━━━━━┓\n",
       "┃<span style=\"font-weight: bold\"> Layer       </span>┃<span style=\"font-weight: bold\"> Output    </span>┃<span style=\"font-weight: bold\"> Pa… </span>┃\n",
       "┃<span style=\"font-weight: bold\"> (type)      </span>┃<span style=\"font-weight: bold\"> Shape     </span>┃<span style=\"font-weight: bold\">   # </span>┃\n",
       "┡━━━━━━━━━━━━━╇━━━━━━━━━━━╇━━━━━┩\n",
       "│ conv2d      │ (<span style=\"color: #00d7ff; text-decoration-color: #00d7ff\">None</span>,    │ <span style=\"color: #00af00; text-decoration-color: #00af00\">320</span> │\n",
       "│ (<span style=\"color: #0087ff; text-decoration-color: #0087ff\">Conv2D</span>)    │ <span style=\"color: #00af00; text-decoration-color: #00af00\">26</span>, <span style=\"color: #00af00; text-decoration-color: #00af00\">26</span>,   │     │\n",
       "│             │ <span style=\"color: #00af00; text-decoration-color: #00af00\">32</span>)       │     │\n",
       "├─────────────┼───────────┼─────┤\n",
       "│ max_poolin… │ (<span style=\"color: #00d7ff; text-decoration-color: #00d7ff\">None</span>,    │   <span style=\"color: #00af00; text-decoration-color: #00af00\">0</span> │\n",
       "│ (<span style=\"color: #0087ff; text-decoration-color: #0087ff\">MaxPoolin…</span> │ <span style=\"color: #00af00; text-decoration-color: #00af00\">13</span>, <span style=\"color: #00af00; text-decoration-color: #00af00\">13</span>,   │     │\n",
       "│             │ <span style=\"color: #00af00; text-decoration-color: #00af00\">32</span>)       │     │\n",
       "├─────────────┼───────────┼─────┤\n",
       "│ conv2d_1    │ (<span style=\"color: #00d7ff; text-decoration-color: #00d7ff\">None</span>,    │ <span style=\"color: #00af00; text-decoration-color: #00af00\">18…</span> │\n",
       "│ (<span style=\"color: #0087ff; text-decoration-color: #0087ff\">Conv2D</span>)    │ <span style=\"color: #00af00; text-decoration-color: #00af00\">11</span>, <span style=\"color: #00af00; text-decoration-color: #00af00\">11</span>,   │     │\n",
       "│             │ <span style=\"color: #00af00; text-decoration-color: #00af00\">64</span>)       │     │\n",
       "├─────────────┼───────────┼─────┤\n",
       "│ max_poolin… │ (<span style=\"color: #00d7ff; text-decoration-color: #00d7ff\">None</span>, <span style=\"color: #00af00; text-decoration-color: #00af00\">5</span>, │   <span style=\"color: #00af00; text-decoration-color: #00af00\">0</span> │\n",
       "│ (<span style=\"color: #0087ff; text-decoration-color: #0087ff\">MaxPoolin…</span> │ <span style=\"color: #00af00; text-decoration-color: #00af00\">5</span>, <span style=\"color: #00af00; text-decoration-color: #00af00\">64</span>)    │     │\n",
       "├─────────────┼───────────┼─────┤\n",
       "│ flatten     │ (<span style=\"color: #00d7ff; text-decoration-color: #00d7ff\">None</span>,    │   <span style=\"color: #00af00; text-decoration-color: #00af00\">0</span> │\n",
       "│ (<span style=\"color: #0087ff; text-decoration-color: #0087ff\">Flatten</span>)   │ <span style=\"color: #00af00; text-decoration-color: #00af00\">1600</span>)     │     │\n",
       "├─────────────┼───────────┼─────┤\n",
       "│ dropout     │ (<span style=\"color: #00d7ff; text-decoration-color: #00d7ff\">None</span>,    │   <span style=\"color: #00af00; text-decoration-color: #00af00\">0</span> │\n",
       "│ (<span style=\"color: #0087ff; text-decoration-color: #0087ff\">Dropout</span>)   │ <span style=\"color: #00af00; text-decoration-color: #00af00\">1600</span>)     │     │\n",
       "├─────────────┼───────────┼─────┤\n",
       "│ dense       │ (<span style=\"color: #00d7ff; text-decoration-color: #00d7ff\">None</span>,    │ <span style=\"color: #00af00; text-decoration-color: #00af00\">16…</span> │\n",
       "│ (<span style=\"color: #0087ff; text-decoration-color: #0087ff\">Dense</span>)     │ <span style=\"color: #00af00; text-decoration-color: #00af00\">10</span>)       │     │\n",
       "└─────────────┴───────────┴─────┘\n",
       "</pre>\n"
      ],
      "text/plain": [
       "┏━━━━━━━━━━━━━┳━━━━━━━━━━━┳━━━━━┓\n",
       "┃\u001b[1m \u001b[0m\u001b[1mLayer      \u001b[0m\u001b[1m \u001b[0m┃\u001b[1m \u001b[0m\u001b[1mOutput   \u001b[0m\u001b[1m \u001b[0m┃\u001b[1m \u001b[0m\u001b[1mPa…\u001b[0m\u001b[1m \u001b[0m┃\n",
       "┃\u001b[1m \u001b[0m\u001b[1m(type)     \u001b[0m\u001b[1m \u001b[0m┃\u001b[1m \u001b[0m\u001b[1mShape    \u001b[0m\u001b[1m \u001b[0m┃\u001b[1m \u001b[0m\u001b[1m  #\u001b[0m\u001b[1m \u001b[0m┃\n",
       "┡━━━━━━━━━━━━━╇━━━━━━━━━━━╇━━━━━┩\n",
       "│ conv2d      │ (\u001b[38;5;45mNone\u001b[0m,    │ \u001b[38;5;34m320\u001b[0m │\n",
       "│ (\u001b[38;5;33mConv2D\u001b[0m)    │ \u001b[38;5;34m26\u001b[0m, \u001b[38;5;34m26\u001b[0m,   │     │\n",
       "│             │ \u001b[38;5;34m32\u001b[0m)       │     │\n",
       "├─────────────┼───────────┼─────┤\n",
       "│ max_poolin… │ (\u001b[38;5;45mNone\u001b[0m,    │   \u001b[38;5;34m0\u001b[0m │\n",
       "│ (\u001b[38;5;33mMaxPoolin…\u001b[0m │ \u001b[38;5;34m13\u001b[0m, \u001b[38;5;34m13\u001b[0m,   │     │\n",
       "│             │ \u001b[38;5;34m32\u001b[0m)       │     │\n",
       "├─────────────┼───────────┼─────┤\n",
       "│ conv2d_1    │ (\u001b[38;5;45mNone\u001b[0m,    │ \u001b[38;5;34m18…\u001b[0m │\n",
       "│ (\u001b[38;5;33mConv2D\u001b[0m)    │ \u001b[38;5;34m11\u001b[0m, \u001b[38;5;34m11\u001b[0m,   │     │\n",
       "│             │ \u001b[38;5;34m64\u001b[0m)       │     │\n",
       "├─────────────┼───────────┼─────┤\n",
       "│ max_poolin… │ (\u001b[38;5;45mNone\u001b[0m, \u001b[38;5;34m5\u001b[0m, │   \u001b[38;5;34m0\u001b[0m │\n",
       "│ (\u001b[38;5;33mMaxPoolin…\u001b[0m │ \u001b[38;5;34m5\u001b[0m, \u001b[38;5;34m64\u001b[0m)    │     │\n",
       "├─────────────┼───────────┼─────┤\n",
       "│ flatten     │ (\u001b[38;5;45mNone\u001b[0m,    │   \u001b[38;5;34m0\u001b[0m │\n",
       "│ (\u001b[38;5;33mFlatten\u001b[0m)   │ \u001b[38;5;34m1600\u001b[0m)     │     │\n",
       "├─────────────┼───────────┼─────┤\n",
       "│ dropout     │ (\u001b[38;5;45mNone\u001b[0m,    │   \u001b[38;5;34m0\u001b[0m │\n",
       "│ (\u001b[38;5;33mDropout\u001b[0m)   │ \u001b[38;5;34m1600\u001b[0m)     │     │\n",
       "├─────────────┼───────────┼─────┤\n",
       "│ dense       │ (\u001b[38;5;45mNone\u001b[0m,    │ \u001b[38;5;34m16…\u001b[0m │\n",
       "│ (\u001b[38;5;33mDense\u001b[0m)     │ \u001b[38;5;34m10\u001b[0m)       │     │\n",
       "└─────────────┴───────────┴─────┘\n"
      ]
     },
     "metadata": {},
     "output_type": "display_data"
    },
    {
     "data": {
      "text/html": [
       "<pre style=\"white-space:pre;overflow-x:auto;line-height:normal;font-family:Menlo,'DejaVu Sans Mono',consolas,'Courier New',monospace\"><span style=\"font-weight: bold\"> Total params: </span><span style=\"color: #00af00; text-decoration-color: #00af00\">34,826</span> (136.04 KB)\n",
       "</pre>\n"
      ],
      "text/plain": [
       "\u001b[1m Total params: \u001b[0m\u001b[38;5;34m34,826\u001b[0m (136.04 KB)\n"
      ]
     },
     "metadata": {},
     "output_type": "display_data"
    },
    {
     "data": {
      "text/html": [
       "<pre style=\"white-space:pre;overflow-x:auto;line-height:normal;font-family:Menlo,'DejaVu Sans Mono',consolas,'Courier New',monospace\"><span style=\"font-weight: bold\"> Trainable params: </span><span style=\"color: #00af00; text-decoration-color: #00af00\">34,826</span> (136.04 KB)\n",
       "</pre>\n"
      ],
      "text/plain": [
       "\u001b[1m Trainable params: \u001b[0m\u001b[38;5;34m34,826\u001b[0m (136.04 KB)\n"
      ]
     },
     "metadata": {},
     "output_type": "display_data"
    },
    {
     "data": {
      "text/html": [
       "<pre style=\"white-space:pre;overflow-x:auto;line-height:normal;font-family:Menlo,'DejaVu Sans Mono',consolas,'Courier New',monospace\"><span style=\"font-weight: bold\"> Non-trainable params: </span><span style=\"color: #00af00; text-decoration-color: #00af00\">0</span> (0.00 B)\n",
       "</pre>\n"
      ],
      "text/plain": [
       "\u001b[1m Non-trainable params: \u001b[0m\u001b[38;5;34m0\u001b[0m (0.00 B)\n"
      ]
     },
     "metadata": {},
     "output_type": "display_data"
    }
   ],
   "source": [
    "\n",
    "model = keras.Sequential(\n",
    "        [\n",
    "        keras.Input(shape=input_shape),\n",
    "        keras.layers.Conv2D(32, kernel_size=(3, 3), activation=\"relu\"),\n",
    "        keras.layers.MaxPooling2D(pool_size=(2, 2)),\n",
    "        keras.layers.Conv2D(64, kernel_size=(3, 3), activation=\"relu\"),\n",
    "        keras.layers.MaxPooling2D(pool_size=(2, 2)),\n",
    "        \n",
    "        keras.layers.Flatten(),\n",
    "        keras.layers.Dropout(0.5),\n",
    "        keras.layers.Dense(10, activation=\"softmax\"),\n",
    "        ]\n",
    "        )\n",
    "\n",
    "\n",
    "model.summary()"
   ]
  },
  {
   "cell_type": "code",
   "execution_count": 8,
   "metadata": {
    "colab": {
     "base_uri": "https://localhost:8080/"
    },
    "id": "7OcjXLwpZHtG",
    "outputId": "4428990a-de60-4f81-90d3-c2cfe2dbf474"
   },
   "outputs": [
    {
     "name": "stderr",
     "output_type": "stream",
     "text": [
      "2024/04/26 17:02:22 INFO mlflow.utils.autologging_utils: Created MLflow autologging run with ID '2ffea4ef775d4748b16ebaf5d4eb6508', which will track hyperparameters, performance metrics, model artifacts, and lineage information for the current keras workflow\n"
     ]
    },
    {
     "data": {
      "text/html": [
       "<pre style=\"white-space:pre;overflow-x:auto;line-height:normal;font-family:Menlo,'DejaVu Sans Mono',consolas,'Courier New',monospace\"></pre>\n"
      ],
      "text/plain": []
     },
     "metadata": {},
     "output_type": "display_data"
    },
    {
     "name": "stdout",
     "output_type": "stream",
     "text": [
      "Epoch 1/6\n",
      "\u001b[1m422/422\u001b[0m \u001b[32m━━━━━━━━━━━━━━━━━━━━\u001b[0m\u001b[37m\u001b[0m \u001b[1m15s\u001b[0m 31ms/step - accuracy: 0.7717 - loss: 0.7445 - val_accuracy: 0.9785 - val_loss: 0.0802\n",
      "Epoch 2/6\n",
      "\u001b[1m422/422\u001b[0m \u001b[32m━━━━━━━━━━━━━━━━━━━━\u001b[0m\u001b[37m\u001b[0m \u001b[1m12s\u001b[0m 27ms/step - accuracy: 0.9637 - loss: 0.1197 - val_accuracy: 0.9848 - val_loss: 0.0553\n",
      "Epoch 3/6\n",
      "\u001b[1m422/422\u001b[0m \u001b[32m━━━━━━━━━━━━━━━━━━━━\u001b[0m\u001b[37m\u001b[0m \u001b[1m12s\u001b[0m 29ms/step - accuracy: 0.9747 - loss: 0.0833 - val_accuracy: 0.9865 - val_loss: 0.0496\n",
      "Epoch 4/6\n",
      "\u001b[1m422/422\u001b[0m \u001b[32m━━━━━━━━━━━━━━━━━━━━\u001b[0m\u001b[37m\u001b[0m \u001b[1m11s\u001b[0m 27ms/step - accuracy: 0.9791 - loss: 0.0715 - val_accuracy: 0.9890 - val_loss: 0.0402\n",
      "Epoch 5/6\n",
      "\u001b[1m422/422\u001b[0m \u001b[32m━━━━━━━━━━━━━━━━━━━━\u001b[0m\u001b[37m\u001b[0m \u001b[1m12s\u001b[0m 28ms/step - accuracy: 0.9805 - loss: 0.0628 - val_accuracy: 0.9908 - val_loss: 0.0370\n",
      "Epoch 6/6\n",
      "\u001b[1m422/422\u001b[0m \u001b[32m━━━━━━━━━━━━━━━━━━━━\u001b[0m\u001b[37m\u001b[0m \u001b[1m12s\u001b[0m 29ms/step - accuracy: 0.9830 - loss: 0.0543 - val_accuracy: 0.9903 - val_loss: 0.0368\n"
     ]
    }
   ],
   "source": [
    "# Define your hyperparameters\n",
    "batch_size = 128\n",
    "epochs = 6\n",
    "\n",
    "mlflow.set_experiment(\"MNIST_Classification\")\n",
    "\n",
    "mlflow.keras.autolog()\n",
    "    \n",
    "# Train your Keras model\n",
    "\n",
    "model.compile(\n",
    "        loss=keras.losses.SparseCategoricalCrossentropy(),\n",
    "        optimizer=keras.optimizers.Adam(),\n",
    "        metrics=[\"accuracy\"])\n",
    "    \n",
    "history = model.fit(\n",
    "        x_train,\n",
    "        y_train,\n",
    "        batch_size=batch_size,\n",
    "        epochs=epochs,\n",
    "        verbose=1,\n",
    "        validation_split=0.1,\n",
    "    )"
   ]
  },
  {
   "cell_type": "code",
   "execution_count": 9,
   "metadata": {},
   "outputs": [
    {
     "data": {
      "image/png": "[encoded data removed]",
      "text/plain": [
       "<Figure size 640x480 with 1 Axes>"
      ]
     },
     "metadata": {},
     "output_type": "display_data"
    },
    {
     "data": {
      "image/png": "[encoded data removed]",
      "text/plain": [
       "<Figure size 640x480 with 1 Axes>"
      ]
     },
     "metadata": {},
     "output_type": "display_data"
    }
   ],
   "source": [
    "# summarize history for accuracy\n",
    "plt.plot(history.history['accuracy'])\n",
    "plt.plot(history.history['val_accuracy'])\n",
    "plt.title('model accuracy')\n",
    "plt.ylabel('accuracy')\n",
    "plt.xlabel('epoch')\n",
    "plt.legend(['Train', 'Validation'], loc='upper left')\n",
    "plt.show()\n",
    "# summarize history for loss\n",
    "plt.plot(history.history['loss'])\n",
    "plt.plot(history.history['val_loss'])\n",
    "plt.title('model loss')\n",
    "plt.ylabel('loss')\n",
    "plt.xlabel('epoch')\n",
    "plt.legend(['Train', 'Validation'], loc='upper left')\n",
    "plt.show()"
   ]
  },
  {
   "cell_type": "code",
   "execution_count": 10,
   "metadata": {
    "colab": {
     "base_uri": "https://localhost:8080/"
    },
    "id": "byFva2Bebrb4",
    "outputId": "243a11ed-df0f-4e8f-f2ac-9ed41c810609"
   },
   "outputs": [
    {
     "data": {
      "text/plain": [
       "1"
      ]
     },
     "execution_count": 10,
     "metadata": {},
     "output_type": "execute_result"
    }
   ],
   "source": [
    "(y_test[2])"
   ]
  },
  {
   "cell_type": "code",
   "execution_count": 11,
   "metadata": {
    "colab": {
     "base_uri": "https://localhost:8080/",
     "height": 447
    },
    "id": "tQopVfZc5oOV",
    "outputId": "6c513d99-3299-4c69-c7cb-0690e9e1051b"
   },
   "outputs": [
    {
     "data": {
      "text/plain": [
       "<matplotlib.image.AxesImage at 0x1ec2adfd290>"
      ]
     },
     "execution_count": 11,
     "metadata": {},
     "output_type": "execute_result"
    },
    {
     "data": {
      "image/png": "[encoded data removed]",
      "text/plain": [
       "<Figure size 640x480 with 1 Axes>"
      ]
     },
     "metadata": {},
     "output_type": "display_data"
    }
   ],
   "source": [
    "plt.imshow(x_test[2], cmap='gray')"
   ]
  },
  {
   "cell_type": "code",
   "execution_count": 12,
   "metadata": {
    "colab": {
     "base_uri": "https://localhost:8080/"
    },
    "id": "PuLxAGFRc71Y",
    "outputId": "7d547f26-56de-471e-e6b7-f3687d6101da"
   },
   "outputs": [
    {
     "name": "stdout",
     "output_type": "stream",
     "text": [
      "\u001b[1m1/1\u001b[0m \u001b[32m━━━━━━━━━━━━━━━━━━━━\u001b[0m\u001b[37m\u001b[0m \u001b[1m0s\u001b[0m 72ms/step\n",
      "Predicted class: 4\n"
     ]
    }
   ],
   "source": [
    "sample_index = 6  # Change this index to select a different sample\n",
    "input_image = np.expand_dims(x_test[6], axis=0)  # Adding a batch dimension\n",
    "\n",
    "# Perform inference\n",
    "predictions = model.predict(input_image)\n",
    "\n",
    "# Convert the predicted probabilities to class labels\n",
    "predicted_class = np.argmax(predictions)\n",
    "\n",
    "# Print the predicted class\n",
    "print(\"Predicted class:\", predicted_class)"
   ]
  },
  {
   "cell_type": "code",
   "execution_count": 13,
   "metadata": {
    "colab": {
     "base_uri": "https://localhost:8080/",
     "height": 447
    },
    "id": "RRr2_OnWeYgE",
    "outputId": "86c8d754-1e3f-41d5-f467-6996fb9de19d"
   },
   "outputs": [
    {
     "data": {
      "text/plain": [
       "<matplotlib.image.AxesImage at 0x1ec23933550>"
      ]
     },
     "execution_count": 13,
     "metadata": {},
     "output_type": "execute_result"
    },
    {
     "data": {
      "image/png": "[encoded data removed]",
      "text/plain": [
       "<Figure size 640x480 with 1 Axes>"
      ]
     },
     "metadata": {},
     "output_type": "display_data"
    }
   ],
   "source": [
    "plt.imshow(x_test[6], cmap='gray')"
   ]
  },
  {
   "cell_type": "code",
   "execution_count": 14,
   "metadata": {
    "id": "_eTjtlGmgx-8"
   },
   "outputs": [],
   "source": [
    "model.save('mnist_model.keras')"
   ]
  },
  {
   "cell_type": "code",
   "execution_count": 15,
   "metadata": {
    "id": "-u-mthGdzrix"
   },
   "outputs": [],
   "source": [
    "m1 = keras.models.load_model('mnist_model.keras')"
   ]
  },
  {
   "cell_type": "code",
   "execution_count": 16,
   "metadata": {
    "colab": {
     "base_uri": "https://localhost:8080/"
    },
    "id": "2sIAi-KDzrix",
    "outputId": "d1e36cf7-3d6f-4e0f-a489-88373d2d7c62"
   },
   "outputs": [
    {
     "name": "stdout",
     "output_type": "stream",
     "text": [
      "\u001b[1m1/1\u001b[0m \u001b[32m━━━━━━━━━━━━━━━━━━━━\u001b[0m\u001b[37m\u001b[0m \u001b[1m0s\u001b[0m 70ms/step\n",
      "Predicted class: 6\n"
     ]
    }
   ],
   "source": [
    "sample_index = 11  # Change this index to select a different sample\n",
    "input_image = np.expand_dims(x_test[sample_index], axis=0)  # Adding a batch dimension\n",
    "\n",
    "# Perform inference\n",
    "predictions = m1.predict(input_image)\n",
    "\n",
    "# Convert the predicted probabilities to class labels\n",
    "predicted_class = np.argmax(predictions)\n",
    "\n",
    "# Print the predicted class\n",
    "print(\"Predicted class:\", predicted_class)"
   ]
  },
  {
   "cell_type": "code",
   "execution_count": 17,
   "metadata": {
    "colab": {
     "base_uri": "https://localhost:8080/",
     "height": 447
    },
    "id": "DqrD4QXxzriy",
    "outputId": "ee11fab9-4eb9-415d-a39e-7c3f65d92009"
   },
   "outputs": [
    {
     "data": {
      "text/plain": [
       "<matplotlib.image.AxesImage at 0x1ec2af09450>"
      ]
     },
     "execution_count": 17,
     "metadata": {},
     "output_type": "execute_result"
    },
    {
     "data": {
      "image/png": "[encoded data removed]",
      "text/plain": [
       "<Figure size 640x480 with 1 Axes>"
      ]
     },
     "metadata": {},
     "output_type": "display_data"
    }
   ],
   "source": [
    "plt.imshow(x_test[11], cmap='gray')"
   ]
  },
  {
   "cell_type": "code",
   "execution_count": null,
   "metadata": {},
   "outputs": [],
   "source": []
  }
 ],
 "metadata": {
  "colab": {
   "provenance": []
  },
  "kernelspec": {
   "display_name": "Python 3 (ipykernel)",
   "language": "python",
   "name": "python3"
  },
  "language_info": {
   "codemirror_mode": {
    "name": "ipython",
    "version": 3
   },
   "file_extension": ".py",
   "mimetype": "text/x-python",
   "name": "python",
   "nbconvert_exporter": "python",
   "pygments_lexer": "ipython3",
   "version": "3.11.9"
  }
 },
 "nbformat": 4,
 "nbformat_minor": 4
}
